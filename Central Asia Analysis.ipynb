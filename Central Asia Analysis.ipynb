{
 "cells": [
  {
   "cell_type": "markdown",
   "metadata": {
    "cell_style": "center"
   },
   "source": [
    "# Introduction of Central Asia:"
   ]
  },
  {
   "cell_type": "markdown",
   "metadata": {
    "cell_style": "center"
   },
   "source": [
    "Central Asia is the region is the best place to explore the architectural gem of Bukhara, take a horse trek across the high palm is and you will be greeted with local hospitality everywhere in Central Asia.Central Asia has the most beautiful cities with epic and architecture. The food is very distinct and their street food culture has been subjected to many documentaries across the world. It is a well-known region where has many different languages and religions. \n",
    "\n",
    "\n",
    "Although the region has atheist countries, Islam is also particularly prevalent in the region, with Kazakhstan being the northernmost Muslim-Majority nation in the world. Exploring local bazaars are the best way to understand the local culture. Additionally, this region is very wealthy in terms of oil, natural gas, uranium and gold. \n",
    "It is also one of the influential producers of cotton."
   ]
  },
  {
   "cell_type": "markdown",
   "metadata": {},
   "source": [
    "-----------------------------------------------------------------------------------------------------------------"
   ]
  },
  {
   "cell_type": "markdown",
   "metadata": {},
   "source": [
    "# Get to our data and select five features"
   ]
  },
  {
   "cell_type": "markdown",
   "metadata": {},
   "source": [
    "In the first step, we will get the best five features of Central Asia to represent our region by comparing the world's data and our region."
   ]
  },
  {
   "cell_type": "code",
   "execution_count": 2,
   "metadata": {},
   "outputs": [
    {
     "ename": "FileNotFoundError",
     "evalue": "[Errno 2] No such file or directory: './Final_Project_Dataset.xlsx'",
     "output_type": "error",
     "traceback": [
      "\u001b[0;31m---------------------------------------------------------------------------\u001b[0m",
      "\u001b[0;31mFileNotFoundError\u001b[0m                         Traceback (most recent call last)",
      "\u001b[0;32m<ipython-input-2-852ba5f49ec1>\u001b[0m in \u001b[0;36m<module>\u001b[0;34m\u001b[0m\n\u001b[1;32m      8\u001b[0m \u001b[0;34m\u001b[0m\u001b[0m\n\u001b[1;32m      9\u001b[0m \u001b[0;31m# importing dataset\u001b[0m\u001b[0;34m\u001b[0m\u001b[0;34m\u001b[0m\u001b[0;34m\u001b[0m\u001b[0m\n\u001b[0;32m---> 10\u001b[0;31m Final_Project_Dataset = pd.read_excel(io         = file,\n\u001b[0m\u001b[1;32m     11\u001b[0m                                       \u001b[0msheet_name\u001b[0m \u001b[0;34m=\u001b[0m \u001b[0;34m'Data'\u001b[0m\u001b[0;34m,\u001b[0m\u001b[0;34m\u001b[0m\u001b[0;34m\u001b[0m\u001b[0m\n\u001b[1;32m     12\u001b[0m                                       header     = 0)\n",
      "\u001b[0;32m~/opt/anaconda3/lib/python3.8/site-packages/pandas/util/_decorators.py\u001b[0m in \u001b[0;36mwrapper\u001b[0;34m(*args, **kwargs)\u001b[0m\n\u001b[1;32m    294\u001b[0m                 )\n\u001b[1;32m    295\u001b[0m                 \u001b[0mwarnings\u001b[0m\u001b[0;34m.\u001b[0m\u001b[0mwarn\u001b[0m\u001b[0;34m(\u001b[0m\u001b[0mmsg\u001b[0m\u001b[0;34m,\u001b[0m \u001b[0mFutureWarning\u001b[0m\u001b[0;34m,\u001b[0m \u001b[0mstacklevel\u001b[0m\u001b[0;34m=\u001b[0m\u001b[0mstacklevel\u001b[0m\u001b[0;34m)\u001b[0m\u001b[0;34m\u001b[0m\u001b[0;34m\u001b[0m\u001b[0m\n\u001b[0;32m--> 296\u001b[0;31m             \u001b[0;32mreturn\u001b[0m \u001b[0mfunc\u001b[0m\u001b[0;34m(\u001b[0m\u001b[0;34m*\u001b[0m\u001b[0margs\u001b[0m\u001b[0;34m,\u001b[0m \u001b[0;34m**\u001b[0m\u001b[0mkwargs\u001b[0m\u001b[0;34m)\u001b[0m\u001b[0;34m\u001b[0m\u001b[0;34m\u001b[0m\u001b[0m\n\u001b[0m\u001b[1;32m    297\u001b[0m \u001b[0;34m\u001b[0m\u001b[0m\n\u001b[1;32m    298\u001b[0m         \u001b[0;32mreturn\u001b[0m \u001b[0mwrapper\u001b[0m\u001b[0;34m\u001b[0m\u001b[0;34m\u001b[0m\u001b[0m\n",
      "\u001b[0;32m~/opt/anaconda3/lib/python3.8/site-packages/pandas/io/excel/_base.py\u001b[0m in \u001b[0;36mread_excel\u001b[0;34m(io, sheet_name, header, names, index_col, usecols, squeeze, dtype, engine, converters, true_values, false_values, skiprows, nrows, na_values, keep_default_na, na_filter, verbose, parse_dates, date_parser, thousands, comment, skipfooter, convert_float, mangle_dupe_cols)\u001b[0m\n\u001b[1;32m    302\u001b[0m \u001b[0;34m\u001b[0m\u001b[0m\n\u001b[1;32m    303\u001b[0m     \u001b[0;32mif\u001b[0m \u001b[0;32mnot\u001b[0m \u001b[0misinstance\u001b[0m\u001b[0;34m(\u001b[0m\u001b[0mio\u001b[0m\u001b[0;34m,\u001b[0m \u001b[0mExcelFile\u001b[0m\u001b[0;34m)\u001b[0m\u001b[0;34m:\u001b[0m\u001b[0;34m\u001b[0m\u001b[0;34m\u001b[0m\u001b[0m\n\u001b[0;32m--> 304\u001b[0;31m         \u001b[0mio\u001b[0m \u001b[0;34m=\u001b[0m \u001b[0mExcelFile\u001b[0m\u001b[0;34m(\u001b[0m\u001b[0mio\u001b[0m\u001b[0;34m,\u001b[0m \u001b[0mengine\u001b[0m\u001b[0;34m=\u001b[0m\u001b[0mengine\u001b[0m\u001b[0;34m)\u001b[0m\u001b[0;34m\u001b[0m\u001b[0;34m\u001b[0m\u001b[0m\n\u001b[0m\u001b[1;32m    305\u001b[0m     \u001b[0;32melif\u001b[0m \u001b[0mengine\u001b[0m \u001b[0;32mand\u001b[0m \u001b[0mengine\u001b[0m \u001b[0;34m!=\u001b[0m \u001b[0mio\u001b[0m\u001b[0;34m.\u001b[0m\u001b[0mengine\u001b[0m\u001b[0;34m:\u001b[0m\u001b[0;34m\u001b[0m\u001b[0;34m\u001b[0m\u001b[0m\n\u001b[1;32m    306\u001b[0m         raise ValueError(\n",
      "\u001b[0;32m~/opt/anaconda3/lib/python3.8/site-packages/pandas/io/excel/_base.py\u001b[0m in \u001b[0;36m__init__\u001b[0;34m(self, path_or_buffer, engine)\u001b[0m\n\u001b[1;32m    865\u001b[0m         \u001b[0mself\u001b[0m\u001b[0;34m.\u001b[0m\u001b[0m_io\u001b[0m \u001b[0;34m=\u001b[0m \u001b[0mstringify_path\u001b[0m\u001b[0;34m(\u001b[0m\u001b[0mpath_or_buffer\u001b[0m\u001b[0;34m)\u001b[0m\u001b[0;34m\u001b[0m\u001b[0;34m\u001b[0m\u001b[0m\n\u001b[1;32m    866\u001b[0m \u001b[0;34m\u001b[0m\u001b[0m\n\u001b[0;32m--> 867\u001b[0;31m         \u001b[0mself\u001b[0m\u001b[0;34m.\u001b[0m\u001b[0m_reader\u001b[0m \u001b[0;34m=\u001b[0m \u001b[0mself\u001b[0m\u001b[0;34m.\u001b[0m\u001b[0m_engines\u001b[0m\u001b[0;34m[\u001b[0m\u001b[0mengine\u001b[0m\u001b[0;34m]\u001b[0m\u001b[0;34m(\u001b[0m\u001b[0mself\u001b[0m\u001b[0;34m.\u001b[0m\u001b[0m_io\u001b[0m\u001b[0;34m)\u001b[0m\u001b[0;34m\u001b[0m\u001b[0;34m\u001b[0m\u001b[0m\n\u001b[0m\u001b[1;32m    868\u001b[0m \u001b[0;34m\u001b[0m\u001b[0m\n\u001b[1;32m    869\u001b[0m     \u001b[0;32mdef\u001b[0m \u001b[0m__fspath__\u001b[0m\u001b[0;34m(\u001b[0m\u001b[0mself\u001b[0m\u001b[0;34m)\u001b[0m\u001b[0;34m:\u001b[0m\u001b[0;34m\u001b[0m\u001b[0;34m\u001b[0m\u001b[0m\n",
      "\u001b[0;32m~/opt/anaconda3/lib/python3.8/site-packages/pandas/io/excel/_xlrd.py\u001b[0m in \u001b[0;36m__init__\u001b[0;34m(self, filepath_or_buffer)\u001b[0m\n\u001b[1;32m     20\u001b[0m         \u001b[0merr_msg\u001b[0m \u001b[0;34m=\u001b[0m \u001b[0;34m\"Install xlrd >= 1.0.0 for Excel support\"\u001b[0m\u001b[0;34m\u001b[0m\u001b[0;34m\u001b[0m\u001b[0m\n\u001b[1;32m     21\u001b[0m         \u001b[0mimport_optional_dependency\u001b[0m\u001b[0;34m(\u001b[0m\u001b[0;34m\"xlrd\"\u001b[0m\u001b[0;34m,\u001b[0m \u001b[0mextra\u001b[0m\u001b[0;34m=\u001b[0m\u001b[0merr_msg\u001b[0m\u001b[0;34m)\u001b[0m\u001b[0;34m\u001b[0m\u001b[0;34m\u001b[0m\u001b[0m\n\u001b[0;32m---> 22\u001b[0;31m         \u001b[0msuper\u001b[0m\u001b[0;34m(\u001b[0m\u001b[0;34m)\u001b[0m\u001b[0;34m.\u001b[0m\u001b[0m__init__\u001b[0m\u001b[0;34m(\u001b[0m\u001b[0mfilepath_or_buffer\u001b[0m\u001b[0;34m)\u001b[0m\u001b[0;34m\u001b[0m\u001b[0;34m\u001b[0m\u001b[0m\n\u001b[0m\u001b[1;32m     23\u001b[0m \u001b[0;34m\u001b[0m\u001b[0m\n\u001b[1;32m     24\u001b[0m     \u001b[0;34m@\u001b[0m\u001b[0mproperty\u001b[0m\u001b[0;34m\u001b[0m\u001b[0;34m\u001b[0m\u001b[0m\n",
      "\u001b[0;32m~/opt/anaconda3/lib/python3.8/site-packages/pandas/io/excel/_base.py\u001b[0m in \u001b[0;36m__init__\u001b[0;34m(self, filepath_or_buffer)\u001b[0m\n\u001b[1;32m    351\u001b[0m             \u001b[0mself\u001b[0m\u001b[0;34m.\u001b[0m\u001b[0mbook\u001b[0m \u001b[0;34m=\u001b[0m \u001b[0mself\u001b[0m\u001b[0;34m.\u001b[0m\u001b[0mload_workbook\u001b[0m\u001b[0;34m(\u001b[0m\u001b[0mfilepath_or_buffer\u001b[0m\u001b[0;34m)\u001b[0m\u001b[0;34m\u001b[0m\u001b[0;34m\u001b[0m\u001b[0m\n\u001b[1;32m    352\u001b[0m         \u001b[0;32melif\u001b[0m \u001b[0misinstance\u001b[0m\u001b[0;34m(\u001b[0m\u001b[0mfilepath_or_buffer\u001b[0m\u001b[0;34m,\u001b[0m \u001b[0mstr\u001b[0m\u001b[0;34m)\u001b[0m\u001b[0;34m:\u001b[0m\u001b[0;34m\u001b[0m\u001b[0;34m\u001b[0m\u001b[0m\n\u001b[0;32m--> 353\u001b[0;31m             \u001b[0mself\u001b[0m\u001b[0;34m.\u001b[0m\u001b[0mbook\u001b[0m \u001b[0;34m=\u001b[0m \u001b[0mself\u001b[0m\u001b[0;34m.\u001b[0m\u001b[0mload_workbook\u001b[0m\u001b[0;34m(\u001b[0m\u001b[0mfilepath_or_buffer\u001b[0m\u001b[0;34m)\u001b[0m\u001b[0;34m\u001b[0m\u001b[0;34m\u001b[0m\u001b[0m\n\u001b[0m\u001b[1;32m    354\u001b[0m         \u001b[0;32melif\u001b[0m \u001b[0misinstance\u001b[0m\u001b[0;34m(\u001b[0m\u001b[0mfilepath_or_buffer\u001b[0m\u001b[0;34m,\u001b[0m \u001b[0mbytes\u001b[0m\u001b[0;34m)\u001b[0m\u001b[0;34m:\u001b[0m\u001b[0;34m\u001b[0m\u001b[0;34m\u001b[0m\u001b[0m\n\u001b[1;32m    355\u001b[0m             \u001b[0mself\u001b[0m\u001b[0;34m.\u001b[0m\u001b[0mbook\u001b[0m \u001b[0;34m=\u001b[0m \u001b[0mself\u001b[0m\u001b[0;34m.\u001b[0m\u001b[0mload_workbook\u001b[0m\u001b[0;34m(\u001b[0m\u001b[0mBytesIO\u001b[0m\u001b[0;34m(\u001b[0m\u001b[0mfilepath_or_buffer\u001b[0m\u001b[0;34m)\u001b[0m\u001b[0;34m)\u001b[0m\u001b[0;34m\u001b[0m\u001b[0;34m\u001b[0m\u001b[0m\n",
      "\u001b[0;32m~/opt/anaconda3/lib/python3.8/site-packages/pandas/io/excel/_xlrd.py\u001b[0m in \u001b[0;36mload_workbook\u001b[0;34m(self, filepath_or_buffer)\u001b[0m\n\u001b[1;32m     35\u001b[0m             \u001b[0;32mreturn\u001b[0m \u001b[0mopen_workbook\u001b[0m\u001b[0;34m(\u001b[0m\u001b[0mfile_contents\u001b[0m\u001b[0;34m=\u001b[0m\u001b[0mdata\u001b[0m\u001b[0;34m)\u001b[0m\u001b[0;34m\u001b[0m\u001b[0;34m\u001b[0m\u001b[0m\n\u001b[1;32m     36\u001b[0m         \u001b[0;32melse\u001b[0m\u001b[0;34m:\u001b[0m\u001b[0;34m\u001b[0m\u001b[0;34m\u001b[0m\u001b[0m\n\u001b[0;32m---> 37\u001b[0;31m             \u001b[0;32mreturn\u001b[0m \u001b[0mopen_workbook\u001b[0m\u001b[0;34m(\u001b[0m\u001b[0mfilepath_or_buffer\u001b[0m\u001b[0;34m)\u001b[0m\u001b[0;34m\u001b[0m\u001b[0;34m\u001b[0m\u001b[0m\n\u001b[0m\u001b[1;32m     38\u001b[0m \u001b[0;34m\u001b[0m\u001b[0m\n\u001b[1;32m     39\u001b[0m     \u001b[0;34m@\u001b[0m\u001b[0mproperty\u001b[0m\u001b[0;34m\u001b[0m\u001b[0;34m\u001b[0m\u001b[0m\n",
      "\u001b[0;32m~/opt/anaconda3/lib/python3.8/site-packages/xlrd/__init__.py\u001b[0m in \u001b[0;36mopen_workbook\u001b[0;34m(filename, logfile, verbosity, use_mmap, file_contents, encoding_override, formatting_info, on_demand, ragged_rows)\u001b[0m\n\u001b[1;32m    109\u001b[0m     \u001b[0;32melse\u001b[0m\u001b[0;34m:\u001b[0m\u001b[0;34m\u001b[0m\u001b[0;34m\u001b[0m\u001b[0m\n\u001b[1;32m    110\u001b[0m         \u001b[0mfilename\u001b[0m \u001b[0;34m=\u001b[0m \u001b[0mos\u001b[0m\u001b[0;34m.\u001b[0m\u001b[0mpath\u001b[0m\u001b[0;34m.\u001b[0m\u001b[0mexpanduser\u001b[0m\u001b[0;34m(\u001b[0m\u001b[0mfilename\u001b[0m\u001b[0;34m)\u001b[0m\u001b[0;34m\u001b[0m\u001b[0;34m\u001b[0m\u001b[0m\n\u001b[0;32m--> 111\u001b[0;31m         \u001b[0;32mwith\u001b[0m \u001b[0mopen\u001b[0m\u001b[0;34m(\u001b[0m\u001b[0mfilename\u001b[0m\u001b[0;34m,\u001b[0m \u001b[0;34m\"rb\"\u001b[0m\u001b[0;34m)\u001b[0m \u001b[0;32mas\u001b[0m \u001b[0mf\u001b[0m\u001b[0;34m:\u001b[0m\u001b[0;34m\u001b[0m\u001b[0;34m\u001b[0m\u001b[0m\n\u001b[0m\u001b[1;32m    112\u001b[0m             \u001b[0mpeek\u001b[0m \u001b[0;34m=\u001b[0m \u001b[0mf\u001b[0m\u001b[0;34m.\u001b[0m\u001b[0mread\u001b[0m\u001b[0;34m(\u001b[0m\u001b[0mpeeksz\u001b[0m\u001b[0;34m)\u001b[0m\u001b[0;34m\u001b[0m\u001b[0;34m\u001b[0m\u001b[0m\n\u001b[1;32m    113\u001b[0m     \u001b[0;32mif\u001b[0m \u001b[0mpeek\u001b[0m \u001b[0;34m==\u001b[0m \u001b[0;34mb\"PK\\x03\\x04\"\u001b[0m\u001b[0;34m:\u001b[0m \u001b[0;31m# a ZIP file\u001b[0m\u001b[0;34m\u001b[0m\u001b[0;34m\u001b[0m\u001b[0m\n",
      "\u001b[0;31mFileNotFoundError\u001b[0m: [Errno 2] No such file or directory: './Final_Project_Dataset.xlsx'"
     ]
    }
   ],
   "source": [
    "# importing packages\n",
    "import pandas as pd \n",
    "import matplotlib.pyplot as plt \n",
    "import seaborn as sns \n",
    "\n",
    "# specifying the file \n",
    "file = './Final_Project_Dataset.xlsx'\n",
    "\n",
    "# importing dataset\n",
    "Final_Project_Dataset = pd.read_excel(io         = file,\n",
    "                                      sheet_name = 'Data',\n",
    "                                      header     = 0)\n",
    "\n",
    "Final_Project_Dataset.head()\n",
    "\n",
    "# specifying the data of our region\n",
    "dinobots = Final_Project_Dataset.loc[:,\"Cool Name\"]\n",
    "dinobots\n",
    "\n",
    "data = Final_Project_Dataset.loc[:,:][Final_Project_Dataset.loc[:,'Cool Name']== \"Dinobots\"].copy()\n",
    "\n",
    "data.info()"
   ]
  },
  {
   "cell_type": "code",
   "execution_count": null,
   "metadata": {},
   "outputs": [],
   "source": [
    "# analyzing the data of the world \n",
    "Final_Project_Dataset.describe()"
   ]
  },
  {
   "cell_type": "code",
   "execution_count": null,
   "metadata": {},
   "outputs": [],
   "source": [
    "# analyzing the data of our region, Central-Asia \n",
    "data.describe()"
   ]
  },
  {
   "cell_type": "markdown",
   "metadata": {},
   "source": [
    "-----------------------------------------------------------------------------------------------------------------"
   ]
  },
  {
   "cell_type": "markdown",
   "metadata": {},
   "source": [
    "By comparing the world and other regions' means, we get five features that show our region's uniqueness.\n",
    "\n",
    "The five features are:\n",
    "\n",
    "<span class=\"mark\">(1) Total Population, (2)Primary completion rate, total, (3) CO2 emissions, (4)Contributing family workers, total, and (5) Employment to population ratio</span>"
   ]
  },
  {
   "cell_type": "code",
   "execution_count": null,
   "metadata": {},
   "outputs": [],
   "source": [
    "# the five features data of our region\n",
    "data[['Country Name',\n",
    "      'Population, total',\n",
    "      'Primary completion rate, total (% of relevant age group)',\n",
    "      'CO2 emissions (metric tons per capita)',\n",
    "      'Contributing family workers, total (% of total employment)',\n",
    "      'Employment to population ratio, 15+, total (%) (modeled ILO estimate)']].head(n = 13)"
   ]
  },
  {
   "cell_type": "markdown",
   "metadata": {},
   "source": [
    "-----------------------------------------------------------------------------------------------------------------"
   ]
  },
  {
   "cell_type": "markdown",
   "metadata": {},
   "source": [
    "# Finding the missing value by using mean or median"
   ]
  },
  {
   "cell_type": "markdown",
   "metadata": {},
   "source": [
    "In this part, we will focus on the missing value on the five features of our region, and show you how we solve the missing value. "
   ]
  },
  {
   "cell_type": "code",
   "execution_count": null,
   "metadata": {},
   "outputs": [],
   "source": [
    "# specifying the five features \n",
    "data_five = data[['Population, total',\n",
    "                  'Primary completion rate, total (% of relevant age group)',\n",
    "                  'CO2 emissions (metric tons per capita)',\n",
    "                  'Contributing family workers, total (% of total employment)',\n",
    "                  'Employment to population ratio, 15+, total (%) (modeled ILO estimate)']].head(n = 13)"
   ]
  },
  {
   "cell_type": "code",
   "execution_count": null,
   "metadata": {},
   "outputs": [],
   "source": [
    "# detecting the missing value on our columns \n",
    "print(data_five.isnull().any(axis = 0))"
   ]
  },
  {
   "cell_type": "code",
   "execution_count": null,
   "metadata": {},
   "outputs": [],
   "source": [
    "# counting the missing value\n",
    "print(data_five.isnull().sum(axis = 0))"
   ]
  },
  {
   "cell_type": "code",
   "execution_count": null,
   "metadata": {},
   "outputs": [],
   "source": [
    "# show the missing value as a percentage of total observation in each feature\n",
    "print(data_five.isnull().mean(axis = 0).round(decimals = 2))"
   ]
  },
  {
   "cell_type": "markdown",
   "metadata": {},
   "source": [
    "-----------------------------------------------------------------------------------------------------------------"
   ]
  },
  {
   "cell_type": "markdown",
   "metadata": {},
   "source": [
    "Based on the rare event rule, 15% of the missing value on the Primary completion rate is rare. \n",
    "\n",
    "We will use the strategy of imputing the mean to fill the value that avoids the significant effect on the overall distribution of the feature by following these steps:\n",
    "\n",
    "(1) Flagging the missing value, which helps us to keep a record of what values have been changed\n",
    "\n",
    "(2) Creating a new column with missing value to store the flag feature\n",
    "\n",
    "(3) Imputing the missing value with mean"
   ]
  },
  {
   "cell_type": "code",
   "execution_count": null,
   "metadata": {},
   "outputs": [],
   "source": [
    "# flagging the missing value\n",
    "\n",
    "data_five['m_Primary completion rate, total (% of relevant age group)'] = data_five['Primary completion rate, total (% of relevant age group)'].isnull().astype(int)\n",
    "\n",
    "print(f\"\"\"\n",
    "Original Missing Value Counts:\n",
    "------------------------------\n",
    "{data_five.isnull().sum(axis = 0)}\n",
    "\n",
    "\n",
    "Sums of Missing Value Flags\n",
    "--------------------------\n",
    "{data_five.iloc[ : , -1: ].sum(axis = 0)}\n",
    "\n",
    "\"\"\")"
   ]
  },
  {
   "cell_type": "code",
   "execution_count": null,
   "metadata": {},
   "outputs": [],
   "source": [
    "# creating a new cloumn in DataFrame\n",
    "\n",
    "data_five.columns\n",
    "\n",
    "data_five.iloc[ : , -1: ]"
   ]
  },
  {
   "cell_type": "code",
   "execution_count": null,
   "metadata": {},
   "outputs": [],
   "source": [
    "data_five['mv_sum'] = 2\n",
    "\n",
    "# checking results\n",
    "print(f\"\"\"\n",
    "\n",
    "Number of Missing Values per Observation (Pct)\n",
    "----------------------------------------------\n",
    "{(data_five['mv_sum'].value_counts(normalize = True,\n",
    "                                  sort      = True,\n",
    "                                  ascending = True)*100).round(2)}\n",
    "\"\"\")"
   ]
  },
  {
   "cell_type": "markdown",
   "metadata": {},
   "source": [
    "-----------------------------------------------------------------------------------------------------------------"
   ]
  },
  {
   "cell_type": "code",
   "execution_count": null,
   "metadata": {},
   "outputs": [],
   "source": [
    "# the following code makes the new DataFrame independent\n",
    "df_dropped = pd.DataFrame.copy(data_five)\n",
    "\n",
    "# using dropna() for df_dropped\n",
    "df_dropped = df_dropped.dropna().round(2)\n",
    "\n",
    "# checking to see if all missing values have been dropped\n",
    "print(df_dropped.isnull().sum())"
   ]
  },
  {
   "cell_type": "markdown",
   "metadata": {},
   "source": [
    "-----------------------------------------------------------------------------------------------------------------"
   ]
  },
  {
   "cell_type": "code",
   "execution_count": null,
   "metadata": {},
   "outputs": [],
   "source": [
    "# imputing the missing value for Primary completion rate - visualize the distribution\n",
    "\n",
    "# setting figure size\n",
    "fig, ax = plt.subplots(figsize = [8, 5])\n",
    "\n",
    "\n",
    "# histogram for clarity\n",
    "sns.distplot(a     = df_dropped['Primary completion rate, total (% of relevant age group)'],\n",
    "             bins  = 5, # changed bin number because of gap in visual with fd\n",
    "             hist  = True,\n",
    "             kde   = False,\n",
    "             rug   = False,\n",
    "             color = 'black')\n",
    "\n",
    "\n",
    "# titles and labels\n",
    "plt.title(label = \"Distribution of Primary completion rate, total\")\n",
    "plt.xlabel(xlabel = '(% of relevant age group)')\n",
    "plt.ylabel(ylabel = 'Frequency')\n",
    "\n",
    "\n",
    "# adding vertical lines to the code\n",
    "plt.axvline(x = df_dropped['Primary completion rate, total (% of relevant age group)'].mean(),\n",
    "            color = 'red')\n",
    "\n",
    "\n",
    "plt.axvline(x = df_dropped['Primary completion rate, total (% of relevant age group)'].median(),\n",
    "            color = 'blue')\n",
    "\n",
    "\n",
    "# adding a legend\n",
    "plt.legend(labels =  ['mean', 'median'])\n",
    "\n",
    "\n",
    "# compiling and displaying the plot\n",
    "plt.tight_layout()\n",
    "plt.show()"
   ]
  },
  {
   "cell_type": "markdown",
   "metadata": {},
   "source": [
    "In the case of the visual outputted of Primary completion rate, \n",
    "\n",
    "since the distribution appears skewed to the left, \n",
    "\n",
    "using the mean to fill in missing value would be better represents the center of this distribution."
   ]
  },
  {
   "cell_type": "code",
   "execution_count": null,
   "metadata": {},
   "outputs": [],
   "source": [
    "# soft coding MEAN for Primary completion rate\n",
    "Primary_mean = data_five['Primary completion rate, total (% of relevant age group)'].mean() # no decimals\n",
    "\n",
    "# filling Primary completion rate, NAs with MEAN\n",
    "data_five['Primary completion rate, total (% of relevant age group)'].fillna(value = Primary_mean,\n",
    "                                                                             inplace = True)\n",
    "\n",
    "# checking to make sure NAs are filled in\n",
    "print(data_five['Primary completion rate, total (% of relevant age group)'].isnull().any())"
   ]
  },
  {
   "cell_type": "markdown",
   "metadata": {},
   "source": [
    "-----------------------------------------------------------------------------------------------------------------"
   ]
  },
  {
   "cell_type": "markdown",
   "metadata": {},
   "source": [
    "Finally, we can get the indication of how closely the imputed distribution appear to the original distribution."
   ]
  },
  {
   "cell_type": "code",
   "execution_count": null,
   "metadata": {},
   "outputs": [],
   "source": [
    "# overlaying the original and imputed distrubutions for Primary completion rate\n",
    "\n",
    "# setting figure size\n",
    "fig, ax = plt.subplots(figsize = [8, 5],\n",
    "                       sharex = True, # sharing x-axis between visualizations\n",
    "                       sharey = True) # sharing y-axis between visualizations\n",
    "\n",
    "# histogram for color\n",
    "sns.distplot(a     = df_dropped['Primary completion rate, total (% of relevant age group)'],\n",
    "             bins  = 5,\n",
    "             hist  = True,\n",
    "             kde   = True, # activating kde\n",
    "             rug   = False,\n",
    "             color = 'black')\n",
    "\n",
    "# titles and labels\n",
    "plt.title(label = \"Distribution of Primary completion rate, total\")\n",
    "plt.xlabel(xlabel = '% of relevant age group')\n",
    "plt.ylabel(ylabel = 'Frequency')\n",
    "\n",
    "# histogram for color\n",
    "sns.distplot(a     = data_five['Primary completion rate, total (% of relevant age group)'],\n",
    "             bins  = 5,\n",
    "             hist  = True,\n",
    "             kde   = True, # activating kde\n",
    "             rug   = False,\n",
    "             color = 'gray')\n",
    "\n",
    "# titles and labels\n",
    "plt.title(label = \"Distribution of Primary completion rate, total\")\n",
    "plt.xlabel(xlabel = '% of primary school age children')\n",
    "plt.ylabel(ylabel = 'Frequency')\n",
    "\n",
    "# adding a legend\n",
    "plt.legend(labels =  ['original distribution',\n",
    "                      'imputed distribution'])\n",
    "\n",
    "# saving the figure as an image\n",
    "plt.savefig(fname = 'Imputation of Color.png')\n",
    "\n",
    "# compiling and displaying the plot\n",
    "plt.tight_layout()\n",
    "plt.show()"
   ]
  },
  {
   "cell_type": "markdown",
   "metadata": {},
   "source": [
    "-----------------------------------------------------------------------------------------------------------------"
   ]
  },
  {
   "cell_type": "markdown",
   "metadata": {},
   "source": [
    "# Outlier detection"
   ]
  },
  {
   "cell_type": "markdown",
   "metadata": {},
   "source": [
    "Outlier detection on this part, we will find out the outliers on the features we choose. \n",
    "\n",
    "And after we find out the outliers, our strategy on the outliers is try to aviod the outliers to represent our region. \n",
    "\n",
    "We will based on three specify features to do: \n",
    "\n",
    "(1)Contributing family workers, total \n",
    "\n",
    "(2)Primary completion rate, total \n",
    "\n",
    "(3)Employment to population ratio\n",
    "\n",
    "Becasue these three features are more easily to reflect the people living conditions within the region, \n",
    "\n",
    "therefore, we want to see if there is any outliers happen on these three features. "
   ]
  },
  {
   "cell_type": "code",
   "execution_count": null,
   "metadata": {},
   "outputs": [],
   "source": [
    "# setting figure size\n",
    "fig, ax = plt.subplots(figsize = (10, 5))\n",
    "\n",
    "# developing a boxplot for Employment to population ratio\n",
    "sns.boxplot(x      = 'Contributing family workers, total (% of total employment)', # x-variable\n",
    "            y      = None, # optional y-variable\n",
    "            hue    = None,     # optional categorical feature\n",
    "            orient = 'h',      # horizontal or vertical\n",
    "            data   = df_dropped) # DataFrame where features exist\n",
    "\n",
    "\n",
    "# formatting and displaying the plot\n",
    "plt.title(label = 'Outlier Detection: Contributing family workers')\n",
    "plt.xlabel(xlabel = '% in total (modeled ILO estimate)')\n",
    "plt.show()"
   ]
  },
  {
   "cell_type": "code",
   "execution_count": null,
   "metadata": {},
   "outputs": [],
   "source": [
    "# setting figure size\n",
    "fig, ax = plt.subplots(figsize = (10, 5))\n",
    "\n",
    "# developing a boxplot for Employment to population ratio\n",
    "sns.boxplot(x      = 'Primary completion rate, total (% of relevant age group)', # x-variable\n",
    "            y      = None,     # optional y-variable\n",
    "            hue    = None,     # optional categorical feature\n",
    "            orient = 'h',      # horizontal or vertical\n",
    "            data   = df_dropped) # DataFrame where features exist\n",
    "\n",
    "\n",
    "# formatting and displaying the plot\n",
    "plt.title(label = 'Outlier Detection: Primary completion rate')\n",
    "plt.xlabel(xlabel = '% of relevant age group')\n",
    "plt.show()"
   ]
  },
  {
   "cell_type": "code",
   "execution_count": null,
   "metadata": {},
   "outputs": [],
   "source": [
    "# setting figure size\n",
    "fig, ax = plt.subplots(figsize = (10, 5))\n",
    "\n",
    "# developing a boxplot for Contributing family workers\n",
    "sns.boxplot(x      = 'Employment to population ratio, 15+, total (%) (modeled ILO estimate)', # x-variable\n",
    "            y      = None,     # optional y-variable\n",
    "            hue    = None,     # optional categorical feature\n",
    "            orient = 'h',      # horizontal or vertical\n",
    "            data   = df_dropped) # DataFrame where features exist\n",
    "\n",
    "\n",
    "# formatting and displaying the plot\n",
    "plt.title(label = 'Outlier Detection: Employment to population ratio')\n",
    "plt.xlabel(xlabel = '% of modeled ILO estimate')\n",
    "plt.show()"
   ]
  },
  {
   "cell_type": "markdown",
   "metadata": {},
   "source": [
    "In these three boxplots of outlier detection, we find out there in one outlier in the boxplot of \"Contributing family workers\" and \"Primary completion rate\". It is the country of Bhutan and Bangladesh. \n",
    "\n",
    "Moreover, when we look at the boxplot of \"Employment to population ratio\", although there is no outliers here, the maximum number of Nepal actually is also far away from the mean. \n",
    "\n",
    "Therefore, when we look at the representative country of our region, we will try to aviod the outliers here, including Bhutan, Bangladesh and Nepal."
   ]
  },
  {
   "cell_type": "markdown",
   "metadata": {},
   "source": [
    "-----------------------------------------------------------------------------------------------------------------"
   ]
  },
  {
   "cell_type": "markdown",
   "metadata": {},
   "source": [
    "# Choosing the representive country"
   ]
  },
  {
   "cell_type": "markdown",
   "metadata": {},
   "source": [
    "First, we will select five countries \"on average\" is better, to do the comparison based on three features we choose:\n",
    "\n",
    "(1)Total population\n",
    "\n",
    "(2)Primary completion rate\n",
    "\n",
    "(3)Employment to population ratio\n",
    "\n",
    "By comparing the data within the region, we will choose the country which have a best data on average. "
   ]
  },
  {
   "cell_type": "code",
   "execution_count": null,
   "metadata": {},
   "outputs": [],
   "source": [
    "# setting figure size\n",
    "fig, ax = plt.subplots(figsize = (10, 5))\n",
    "\n",
    "# developing a boxplot for carat\n",
    "sns.barplot(x      = 'Country Name',  # x-variable\n",
    "            y      = 'Population, total',     # y-variable\n",
    "            order  = ['China','India','Bangladesh','Myanmar','Nepal'],\n",
    "            orient = 'vertical',      # horizontal or vertical\n",
    "            data   = data,     #DataFrame where features exist\n",
    "            palette = 'husl') # \n",
    "\n",
    "# formatting and displaying the plot\n",
    "plt.title(label = 'Barplot of Total Population')\n",
    "plt.xlabel(xlabel = 'Country Name')\n",
    "plt.show()"
   ]
  },
  {
   "cell_type": "code",
   "execution_count": null,
   "metadata": {
    "cell_style": "center"
   },
   "outputs": [],
   "source": [
    "# setting figure size\n",
    "fig, ax = plt.subplots(figsize = (10, 5))\n",
    "\n",
    "# developing a boxplot for carat\n",
    "sns.barplot(x      = 'Country Name',  # x-variable\n",
    "            y      = df_dropped['Primary completion rate, total (% of relevant age group)'], # y-variable\n",
    "            order  = ['China','India','Bangladesh','Myanmar','Nepal'],\n",
    "            orient = 'vertical',      # horizontal or vertical\n",
    "            data   = data,     #DataFrame where features exist\n",
    "            palette = 'husl') # \n",
    "\n",
    "# formatting and displaying the plot\n",
    "plt.title(label = 'Barplot of Primary completion rate')\n",
    "plt.xlabel(xlabel = 'Country Name')\n",
    "plt.show()"
   ]
  },
  {
   "cell_type": "code",
   "execution_count": null,
   "metadata": {
    "cell_style": "center"
   },
   "outputs": [],
   "source": [
    "# setting figure size\n",
    "fig, ax = plt.subplots(figsize = (10, 5))\n",
    "\n",
    "# developing a boxplot for carat\n",
    "sns.barplot(x      = 'Country Name',  # x-variable\n",
    "            y      = 'Employment to population ratio, 15+, total (%) (modeled ILO estimate)', # y-variable\n",
    "            order  = ['China','India','Bangladesh','Myanmar','Nepal'],\n",
    "            orient = 'vertical',      # horizontal or vertical\n",
    "            data   = data,     #DataFrame where features exist\n",
    "            palette = 'husl') # \n",
    "\n",
    "# formatting and displaying the plot\n",
    "plt.title(label = 'Barplot of Employment to population ratio')\n",
    "plt.xlabel(xlabel = 'Country Name')\n",
    "plt.show()"
   ]
  },
  {
   "cell_type": "markdown",
   "metadata": {},
   "source": [
    "By comparing these three features, we can see China get the highest population and primary completion rate.\n",
    "\n",
    "When Nepal get the highest number on employment to population ratio, China has the second highest data. \n",
    "\n",
    "Since we are trying to avoid to choose Bangladesh and Nepel on the outliers, therefore, we will choose China to represent our region. "
   ]
  },
  {
   "cell_type": "markdown",
   "metadata": {},
   "source": [
    "-----------------------------------------------------------------------------------------------------------------"
   ]
  },
  {
   "cell_type": "markdown",
   "metadata": {},
   "source": [
    "# Unique points of Central-asia"
   ]
  },
  {
   "cell_type": "code",
   "execution_count": null,
   "metadata": {},
   "outputs": [],
   "source": [
    "#Middle East & Russia\n",
    "Middle_East_Russia = Final_Project_Dataset.loc[:,\"Hult Region\"]\n",
    "Middle_East_Russia\n",
    "Middle_East_Russia1 = Final_Project_Dataset.loc[:,:][Final_Project_Dataset.loc[:,'Hult Region'] == \"Middle East & Russia\"].copy()\n",
    "Middle_East_Russia1\n",
    "\n",
    "#DINOBOTS\n",
    "dinobots = Final_Project_Dataset.loc[:,\"Cool Name\"]\n",
    "dinobots\n",
    "Central_Asia = Final_Project_Dataset.loc[:,:][Final_Project_Dataset.loc[:,'Cool Name']== \"Dinobots\"].copy()\n",
    "Central_Asia\n",
    "\n",
    "#EUROPE\n",
    "Eastern_Europe = Final_Project_Dataset.loc[:,\"Hult Region\"]\n",
    "Eastern_Europe\n",
    "Europe = Final_Project_Dataset.loc[:,:][Final_Project_Dataset.loc[:,'Hult Region'] == \"Eastern Europe\"].copy()\n",
    "Europe\n",
    "\n",
    "#AFRICA\n",
    "Sub_Saharan_Africa = Final_Project_Dataset.loc[:,\"Hult Region\"]\n",
    "Sub_Saharan_Africa\n",
    "Africa = Final_Project_Dataset.loc[:,:][Final_Project_Dataset.loc[:,'Hult Region'] == \"Sub-Saharan Africa\"].copy()\n",
    "Africa\n",
    "\n",
    "#North AMERICA\n",
    "North_America_Part_of_Latin_America = Final_Project_Dataset.loc[:,\"Hult Region\"]\n",
    "North_America_Part_of_Latin_America\n",
    "North_America_Part_of_Latin_America1 = Final_Project_Dataset.loc[:,:][Final_Project_Dataset.loc[:,'Hult Region'] == \"North America & Part of Latin America\"].copy()\n",
    "North_America_Part_of_Latin_America1\n",
    "\n",
    "#This is the mean of Eastern Europe\n",
    "list1 = Europe.describe().loc[ : , [\"Population, total\",\n",
    "                            \"Primary completion rate, total (% of relevant age group)\",\n",
    "                            \"CO2 emissions (metric tons per capita)\",\n",
    "                            \"Contributing family workers, total (% of total employment)\",\n",
    "                            \"Employment to population ratio, 15+, total (%) (modeled ILO estimate)\"]  ].iloc[ [1] ,  : ]\n",
    "\n",
    "#############################################################################\n",
    "\n",
    "d = {'Region':['Central Asia'],\n",
    "     'Population, total':[2.203870e+08\t\t],\n",
    "     'Primary completion rate, total (% of relevant age group)':[90.726951],\n",
    "     'CO2 emissions (metric tons per capita)':[2.799608],\n",
    "     'Contributing family workers, total (% of total employment)':[19.541615],\n",
    "     'Employment to population ratio, 15+, total (%) (modeled ILO estimate)':[62.940231]}\n",
    "df1 = pd.DataFrame(d)\n",
    "df1\n",
    "\n",
    "\n",
    "d = {'Region':['Eastern Europe'],\n",
    "     'Population, total':[5.749627e+06],\n",
    "     'Primary completion rate, total (% of relevant age group)':[96.537608],\n",
    "     'CO2 emissions (metric tons per capita)':[6.948588],\n",
    "     'Contributing family workers, total (% of total employment)':[3.603737],\n",
    "     'Employment to population ratio, 15+, total (%) (modeled ILO estimate)':[50.930684]}\n",
    "df2 = pd.DataFrame(d)\n",
    "df2\n",
    "\n",
    "\n",
    "d = {'Region':['Sub-Saharan Africa'],\n",
    "     'Population, total':[1.602411e+07\t\t\t],\n",
    "     'Primary completion rate, total (% of relevant age group)':[66.943701],\n",
    "     'CO2 emissions (metric tons per capita)':[1.11535],\n",
    "     'Contributing family workers, total (% of total employment)':[12.293455],\n",
    "     'Employment to population ratio, 15+, total (%) (modeled ILO estimate)':[59.60659]}\n",
    "df3 = pd.DataFrame(d)\n",
    "df3\n",
    "\n",
    "d = {'Region':['East South Africa1'],\n",
    "     'Population, total':[18398587.0],\n",
    "     'Primary completion rate, total (% of relevant age group)':[63.515956],\n",
    "     'CO2 emissions (metric tons per capita)':[0.925119],\n",
    "     'Contributing family workers, total (% of total employment)':[18.512762],\n",
    "     'Employment to population ratio, 15+, total (%) (modeled ILO estimate)':[63.857618]}\n",
    "df4 = pd.DataFrame(d)\n",
    "df4\n",
    "\n",
    "d = {'Region':['Middle East Russia'],\n",
    "     'Population, total':[3.870382e+07],\n",
    "     'Primary completion rate, total (% of relevant age group)':[93.025734],\n",
    "     'CO2 emissions (metric tons per capita)':[5.001561],\n",
    "     'Contributing family workers, total (% of total employment)':[12.903714],\n",
    "     'Employment to population ratio, 15+, total (%) (modeled ILO estimate)':[52.365499]}\n",
    "df5 = pd.DataFrame(d)\n",
    "df5\n",
    "\n",
    "pd.concat([df1,df2,df3,df4,df5])"
   ]
  },
  {
   "cell_type": "code",
   "execution_count": null,
   "metadata": {},
   "outputs": [],
   "source": [
    "import numpy as np \n",
    "import matplotlib.pyplot as plt  \n",
    "  \n",
    "# creating the dataset \n",
    "compare_region = {'Eastern Europe':57.49627, 'Central_Asia':22.0387000, 'Africa':16.024110,  \n",
    "        'East South Africa':18.398587, 'Middle East & Russia': 38.703820} \n",
    "regions = list(compare_region.keys()) \n",
    "values = list(compare_region.values()) \n",
    "   \n",
    "fig = plt.figure(figsize = (11, 5)) \n",
    "  \n",
    "# creating the bar plot \n",
    "plt.bar(regions, values, color=['blue', 'maroon', 'blue', 'blue', 'blue'], \n",
    "        width = 0.4)  \n",
    "  \n",
    "plt.xlabel(\"Regions\") \n",
    "plt.ylabel(\"Employment to pop. ratio\") \n",
    "plt.title(\"Total Number of population ratio\") \n",
    "plt.show()"
   ]
  },
  {
   "cell_type": "code",
   "execution_count": null,
   "metadata": {},
   "outputs": [],
   "source": [
    "import numpy as np \n",
    "import matplotlib.pyplot as plt  \n",
    "     \n",
    "# creating the dataset \n",
    "region_Co2_Emission = {'World' : 5.05, 'Eastern Europe':6.94, 'Central_Asia':2.79, 'Africa':1.11,  \n",
    "        'East South Africa':0.92, 'Middle East & Russia': 5.00} \n",
    "\n",
    "regions = list(region_Co2_Emission.keys()) \n",
    "values = list(region_Co2_Emission.values())\n",
    "   \n",
    "fig = plt.figure(figsize = (11, 5)) \n",
    "  \n",
    "# creating the bar plot \n",
    "plt.bar(regions, values, color=['orange','blue','maroon', 'blue', 'blue', 'blue'], \n",
    "        width = 0.4) \n",
    "\n",
    "plt.xlabel(\"Regions\") \n",
    "plt.ylabel(\"CO2 Emission (%)\") \n",
    "plt.title(\"CO2 emissions (metric tons per capita)\") \n",
    "plt.show()"
   ]
  },
  {
   "cell_type": "markdown",
   "metadata": {},
   "source": [
    "An extensive analysis of the five chosen characteristics shows that our region is unique compared to the other four chosen regions. \n",
    "\n",
    "The first observation indicates that the population in our region \"Central Asia\" is the highest since it has two essential countries in terms of the number of inhabitants per country, and as they are part of the region, these countries are India and China. \n",
    "\n",
    "Also, it could be seen that there is a correlation between the amount of CO2 emitted and the population per region.\n",
    "\n",
    "So, we chose to analyze it with another region. \n",
    "\n",
    "\n",
    "Like Eastern Europe, the result was that the amount of CO2 emitted per metric tons per capita is 6.94 for Eastern Europe, while it is 2.70 for Central Asia.\n",
    "\n",
    "Therefore, it means that the amount of CO2 emitted by Eastern Europe is so high as it has only a total population of 5749627, while Central Asia has a population of 220387000 and the amount of CO2 emitted is 59% lower. \n",
    "\n",
    "These results show that it is real according to an external article in which he mentioned that China, as one of the countries with more population in the region and the world, has implemented since 2013 to prohibit the construction of coal power plants in large cities and also implementing fully electric buses, as well as reducing in large cities like Beijing, Shanghai the circulation of vehicles."
   ]
  },
  {
   "cell_type": "code",
   "execution_count": null,
   "metadata": {},
   "outputs": [],
   "source": [
    "width = .35 # width of a bar\n",
    "\n",
    "m1_t = pd.DataFrame({\n",
    " 'Central Asia' : [90.7,62.9,19.5],\n",
    " 'Eastern Europe' : [85.5,50.9,3.6],\n",
    " 'Middle East Russia' : [89.0,52.3,12.9],\n",
    " 'World' : [86.7,10.4,47.0]})\n",
    "\n",
    "m1_t[['Central Asia','Eastern Europe','Middle East Russia']].plot(kind='bar', width = width)\n",
    "m1_t['World'].plot(secondary_y=True)\n",
    "\n",
    "ax = plt.gca()\n",
    "plt.xlim([-width, len(m1_t['World'])-width])\n",
    "ax.set_xticklabels(('Primary Com. ','Employment to pop.','Family workers' ))\n",
    "\n",
    "plt.show()"
   ]
  },
  {
   "cell_type": "markdown",
   "metadata": {},
   "source": [
    "-----------------------------------------------------------------------------------------------------------------"
   ]
  },
  {
   "cell_type": "markdown",
   "metadata": {},
   "source": [
    "# Conclusion"
   ]
  },
  {
   "cell_type": "markdown",
   "metadata": {},
   "source": [
    "As a conclusion, based on the world bank datas our region is quite unique. We emphasize the five features in order to show the strength of our region’s. By comparing the total number the means in average in the whole world, we aim to indicate that Central Asia’s country such as China and India are getting better. Firstly we found the missing value. The only missing value that we determine in our features was the Primary completion rate with two values. In order to fill the value that avoids the significant effect on the entire distribution of the feature we flag the missing values, then create the new column to store the flag feature. Finally we impute the missing value with mean. \n",
    "In the outlier part, we analyze how the outliers affected the our region. We avoid the outliers in Bhutan, Bangladesh and Nepal to make the accurate analyze.\n",
    "We chose to China to represent our region based on the features such as total population. primary completion rate and employment to population ratio. "
   ]
  }
 ],
 "metadata": {
  "kernelspec": {
   "display_name": "Python 3",
   "language": "python",
   "name": "python3"
  },
  "language_info": {
   "codemirror_mode": {
    "name": "ipython",
    "version": 3
   },
   "file_extension": ".py",
   "mimetype": "text/x-python",
   "name": "python",
   "nbconvert_exporter": "python",
   "pygments_lexer": "ipython3",
   "version": "3.8.3"
  },
  "toc": {
   "base_numbering": 1,
   "nav_menu": {},
   "number_sections": true,
   "sideBar": true,
   "skip_h1_title": false,
   "title_cell": "Table of Contents",
   "title_sidebar": "Contents",
   "toc_cell": false,
   "toc_position": {},
   "toc_section_display": true,
   "toc_window_display": false
  },
  "varInspector": {
   "cols": {
    "lenName": 16,
    "lenType": 16,
    "lenVar": 40
   },
   "kernels_config": {
    "python": {
     "delete_cmd_postfix": "",
     "delete_cmd_prefix": "del ",
     "library": "var_list.py",
     "varRefreshCmd": "print(var_dic_list())"
    },
    "r": {
     "delete_cmd_postfix": ") ",
     "delete_cmd_prefix": "rm(",
     "library": "var_list.r",
     "varRefreshCmd": "cat(var_dic_list()) "
    }
   },
   "types_to_exclude": [
    "module",
    "function",
    "builtin_function_or_method",
    "instance",
    "_Feature"
   ],
   "window_display": false
  }
 },
 "nbformat": 4,
 "nbformat_minor": 4
}
